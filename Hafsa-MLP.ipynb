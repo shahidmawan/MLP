{
 "cells": [
  {
   "cell_type": "code",
   "execution_count": 2,
   "metadata": {},
   "outputs": [],
   "source": [
    "from keras.models import Sequential\n",
    "from keras.layers import Dense"
   ]
  },
  {
   "cell_type": "code",
   "execution_count": 3,
   "metadata": {},
   "outputs": [],
   "source": [
    "import numpy\n",
    "from sklearn.model_selection import train_test_split\n",
    "\n",
    "numpy.random.seed(7)"
   ]
  },
  {
   "cell_type": "code",
   "execution_count": 4,
   "metadata": {},
   "outputs": [],
   "source": [
    "#load dataset\n",
    "dataset = numpy.loadtxt(\"/home/hafsah/machineLearning/dataset.csv\",delimiter=\",\")"
   ]
  },
  {
   "cell_type": "code",
   "execution_count": 5,
   "metadata": {},
   "outputs": [],
   "source": [
    "#split into input (X) and output (Y) variables\n",
    "X = dataset[:,0:4]\n",
    "Y = dataset[:,4]\n",
    "X_train, X_test, y_train, y_test = train_test_split(X,Y, test_size=0.2)"
   ]
  },
  {
   "cell_type": "code",
   "execution_count": 6,
   "metadata": {},
   "outputs": [
    {
     "name": "stdout",
     "output_type": "stream",
     "text": [
      "Epoch 1/20\n",
      "1097/1097 [==============================] - 0s 109us/step - loss: 0.8177 - acc: 0.5278\n",
      "Epoch 2/20\n",
      "1097/1097 [==============================] - 0s 23us/step - loss: 0.7511 - acc: 0.5351\n",
      "Epoch 3/20\n",
      "1097/1097 [==============================] - 0s 19us/step - loss: 0.6984 - acc: 0.5387\n",
      "Epoch 4/20\n",
      "1097/1097 [==============================] - 0s 19us/step - loss: 0.6542 - acc: 0.5451\n",
      "Epoch 5/20\n",
      "1097/1097 [==============================] - 0s 27us/step - loss: 0.6189 - acc: 0.5588\n",
      "Epoch 6/20\n",
      "1097/1097 [==============================] - 0s 24us/step - loss: 0.5885 - acc: 0.5907\n",
      "Epoch 7/20\n",
      "1097/1097 [==============================] - 0s 20us/step - loss: 0.5619 - acc: 0.6536\n",
      "Epoch 8/20\n",
      "1097/1097 [==============================] - 0s 22us/step - loss: 0.5365 - acc: 0.7046\n",
      "Epoch 9/20\n",
      "1097/1097 [==============================] - 0s 26us/step - loss: 0.5106 - acc: 0.7448\n",
      "Epoch 10/20\n",
      "1097/1097 [==============================] - 0s 24us/step - loss: 0.4847 - acc: 0.7575\n",
      "Epoch 11/20\n",
      "1097/1097 [==============================] - 0s 22us/step - loss: 0.4611 - acc: 0.7739\n",
      "Epoch 12/20\n",
      "1097/1097 [==============================] - 0s 23us/step - loss: 0.4386 - acc: 0.7985\n",
      "Epoch 13/20\n",
      "1097/1097 [==============================] - 0s 20us/step - loss: 0.4176 - acc: 0.8204\n",
      "Epoch 14/20\n",
      "1097/1097 [==============================] - 0s 23us/step - loss: 0.3969 - acc: 0.8387\n",
      "Epoch 15/20\n",
      "1097/1097 [==============================] - 0s 19us/step - loss: 0.3768 - acc: 0.8523\n",
      "Epoch 16/20\n",
      "1097/1097 [==============================] - 0s 21us/step - loss: 0.3567 - acc: 0.8587\n",
      "Epoch 17/20\n",
      "1097/1097 [==============================] - 0s 24us/step - loss: 0.3364 - acc: 0.8660\n",
      "Epoch 18/20\n",
      "1097/1097 [==============================] - 0s 26us/step - loss: 0.3167 - acc: 0.8733\n",
      "Epoch 19/20\n",
      "1097/1097 [==============================] - 0s 28us/step - loss: 0.2966 - acc: 0.8861\n",
      "Epoch 20/20\n",
      "1097/1097 [==============================] - 0s 21us/step - loss: 0.2774 - acc: 0.8924\n"
     ]
    },
    {
     "data": {
      "text/plain": [
       "<keras.callbacks.History at 0x7efc1ebc34e0>"
      ]
     },
     "execution_count": 6,
     "metadata": {},
     "output_type": "execute_result"
    }
   ],
   "source": [
    "#create model\n",
    "model = Sequential()\n",
    "model.add(Dense(8, input_dim=4, activation='relu'))\n",
    "model.add(Dense(6,activation='relu'))\n",
    "model.add(Dense(1,activation='sigmoid'))\n",
    "model.compile(loss='binary_crossentropy', optimizer='adam', metrics=['accuracy'])\n",
    "model.fit(X_train, y_train,epochs=20, batch_size=100)"
   ]
  },
  {
   "cell_type": "code",
   "execution_count": 7,
   "metadata": {},
   "outputs": [
    {
     "name": "stdout",
     "output_type": "stream",
     "text": [
      "275/275 [==============================] - 0s 131us/step\n",
      "Test on  275\n",
      "\n",
      "acc: 90.18%\n"
     ]
    }
   ],
   "source": [
    "#evaluate\n",
    "scores = model.evaluate(X_test,y_test)\n",
    "print ('Test on ', len(X_test))\n",
    "\n",
    "print(\"\\n%s: %.2f%%\" % (model.metrics_names[1], scores[1]*100))"
   ]
  },
  {
   "cell_type": "code",
   "execution_count": null,
   "metadata": {},
   "outputs": [],
   "source": []
  }
 ],
 "metadata": {
  "kernelspec": {
   "display_name": "Python 3",
   "language": "python",
   "name": "python3"
  },
  "language_info": {
   "codemirror_mode": {
    "name": "ipython",
    "version": 3
   },
   "file_extension": ".py",
   "mimetype": "text/x-python",
   "name": "python",
   "nbconvert_exporter": "python",
   "pygments_lexer": "ipython3",
   "version": "3.6.2"
  }
 },
 "nbformat": 4,
 "nbformat_minor": 2
}
